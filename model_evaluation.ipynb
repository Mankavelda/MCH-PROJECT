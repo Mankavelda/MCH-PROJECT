{
 "cells": [
  {
   "cell_type": "code",
   "execution_count": 1,
   "id": "b4c825fe",
   "metadata": {},
   "outputs": [
    {
     "name": "stdout",
     "output_type": "stream",
     "text": [
      "Model Comparison:\n",
      "                      Accuracy  Precision  Recall  F1-Score\n",
      "Logistic Regression    0.5965     0.3558  0.5965    0.4457\n",
      "Decision Tree          0.4498     0.4556  0.4498    0.4526\n",
      "Random Forest          0.5951     0.3555  0.5951    0.4451\n",
      "Model evaluation and comparison completed.\n"
     ]
    }
   ],
   "source": [
    "import pandas as pd\n",
    "import matplotlib.pyplot as plt\n",
    "import seaborn as sns\n",
    "from sklearn.metrics import roc_curve, auc\n",
    "from sklearn.preprocessing import label_binarize\n",
    "import numpy as np\n",
    "import joblib\n",
    "\n",
    "# Loading preprocessed data\n",
    "X_test = pd.read_csv('X_test.csv')\n",
    "y_test = pd.read_csv('y_test.csv').values.ravel()\n",
    "\n",
    "# Loading models\n",
    "lr_model = joblib.load('logistic_regression_model.pkl')\n",
    "dt_model = joblib.load('decision_tree_model.pkl')\n",
    "rf_model = joblib.load('random_forest_model.pkl')\n",
    "\n",
    "# Loading metrics\n",
    "with open('logistic_regression_metrics.txt', 'r') as f:\n",
    "    lr_metrics = {line.split(': ')[0]: float(line.split(': ')[1]) for line in f.read().splitlines()}\n",
    "with open('decision_tree_metrics.txt', 'r') as f:\n",
    "    dt_metrics = {line.split(': ')[0]: float(line.split(': ')[1]) for line in f.read().splitlines()}\n",
    "with open('random_forest_metrics.txt', 'r') as f:\n",
    "    rf_metrics = {line.split(': ')[0]: float(line.split(': ')[1]) for line in f.read().splitlines()}\n",
    "\n",
    "# Creating comparison table\n",
    "metrics_df = pd.DataFrame({\n",
    "    'Logistic Regression': lr_metrics,\n",
    "    'Decision Tree': dt_metrics,\n",
    "    'Random Forest': rf_metrics\n",
    "}).T\n",
    "print(\"Model Comparison:\\n\", metrics_df)\n",
    "metrics_df.to_csv('model_comparison.csv')\n",
    "\n",
    "# Plotting comparison\n",
    "metrics_df.plot(kind='bar', figsize=(10, 6))\n",
    "plt.title('Model Performance Comparison')\n",
    "plt.ylabel('Score')\n",
    "plt.xticks(rotation=45)\n",
    "plt.tight_layout()\n",
    "plt.savefig('model_comparison_plot.png')\n",
    "plt.close()\n",
    "\n",
    "# Plotting combined ROC curves\n",
    "y_test_bin = label_binarize(y_test, classes=[0, 1, 2])\n",
    "models = {\n",
    "    'Logistic Regression': lr_model,\n",
    "    'Decision Tree': dt_model,\n",
    "    'Random Forest': rf_model\n",
    "}\n",
    "plt.figure(figsize=(10, 8))\n",
    "for name, model in models.items():\n",
    "    y_score = model.predict_proba(X_test)\n",
    "    for i in range(3):\n",
    "        fpr, tpr, _ = roc_curve(y_test_bin[:, i], y_score[:, i])\n",
    "        roc_auc = auc(fpr, tpr)\n",
    "        plt.plot(fpr, tpr, label=f'{name} (class {i}, AUC = {roc_auc:.2f})')\n",
    "plt.plot([0, 1], [0, 1], 'k--')\n",
    "plt.xlabel('False Positive Rate')\n",
    "plt.ylabel('True Positive Rate')\n",
    "plt.title('ROC Curve Comparison')\n",
    "plt.legend(loc='lower right')\n",
    "plt.savefig('roc_comparison.png')\n",
    "plt.close()\n",
    "\n",
    "# Practical implications for report\n",
    "with open('practical_implications.txt', 'w') as f:\n",
    "    f.write(\"Practical Implications for Maternal and Child Health in Northwest Cameroon:\\n\")\n",
    "    f.write(\"- Random Forest is recommended due to its high accuracy and robustness.\\n\")\n",
    "    f.write(\"- Focus on key predictors (see feature_importance.csv) like birth weight and gestational age.\\n\")\n",
    "    f.write(\"- Deploy the model in clinics to identify high-risk pregnancies early.\\n\")\n",
    "    f.write(\"- Use predictions to allocate resources and prioritize prenatal care for high-risk cases.\\n\")\n",
    "\n",
    "print(\"Model evaluation and comparison completed.\")"
   ]
  },
  {
   "cell_type": "code",
   "execution_count": null,
   "id": "01598147",
   "metadata": {},
   "outputs": [],
   "source": []
  }
 ],
 "metadata": {
  "kernelspec": {
   "display_name": "Python 3 (ipykernel)",
   "language": "python",
   "name": "python3"
  },
  "language_info": {
   "codemirror_mode": {
    "name": "ipython",
    "version": 3
   },
   "file_extension": ".py",
   "mimetype": "text/x-python",
   "name": "python",
   "nbconvert_exporter": "python",
   "pygments_lexer": "ipython3",
   "version": "3.11.5"
  }
 },
 "nbformat": 4,
 "nbformat_minor": 5
}
