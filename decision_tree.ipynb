{
 "cells": [
  {
   "cell_type": "code",
   "execution_count": 1,
   "id": "d0cab2f1",
   "metadata": {},
   "outputs": [
    {
     "name": "stdout",
     "output_type": "stream",
     "text": [
      "Decision Tree Metrics:\n",
      " {'Accuracy': 0.4498245614035088, 'Precision': 0.45556446024276026, 'Recall': 0.4498245614035088, 'F1-Score': 0.45263086527618707}\n",
      "Decision Tree training and evaluation completed.\n"
     ]
    }
   ],
   "source": [
    "import pandas as pd\n",
    "from sklearn.tree import DecisionTreeClassifier\n",
    "from sklearn.metrics import accuracy_score, precision_score, recall_score, f1_score, confusion_matrix, roc_curve, auc\n",
    "from sklearn.preprocessing import label_binarize\n",
    "import matplotlib.pyplot as plt\n",
    "import seaborn as sns\n",
    "import numpy as np\n",
    "import joblib\n",
    "\n",
    "# Loading preprocessed data\n",
    "X_train = pd.read_csv('X_train.csv')\n",
    "X_test = pd.read_csv('X_test.csv')\n",
    "y_train = pd.read_csv('y_train.csv').values.ravel()\n",
    "y_test = pd.read_csv('y_test.csv').values.ravel()\n",
    "\n",
    "# Training Decision Tree\n",
    "model = DecisionTreeClassifier(random_state=42)\n",
    "model.fit(X_train, y_train)\n",
    "\n",
    "# Saving the model\n",
    "joblib.dump(model, 'decision_tree_model.pkl')\n",
    "\n",
    "# Making predictions\n",
    "y_pred = model.predict(X_test)\n",
    "\n",
    "# Calculating metrics\n",
    "metrics = {\n",
    "    'Accuracy': accuracy_score(y_test, y_pred),\n",
    "    'Precision': precision_score(y_test, y_pred, average='weighted'),\n",
    "    'Recall': recall_score(y_test, y_pred, average='weighted'),\n",
    "    'F1-Score': f1_score(y_test, y_pred, average='weighted')\n",
    "}\n",
    "print(\"Decision Tree Metrics:\\n\", metrics)\n",
    "\n",
    "# Saving metrics\n",
    "with open('decision_tree_metrics.txt', 'w') as f:\n",
    "    for metric, value in metrics.items():\n",
    "        f.write(f\"{metric}: {value:.4f}\\n\")\n",
    "\n",
    "# Plotting confusion matrix\n",
    "cm = confusion_matrix(y_test, y_pred)\n",
    "plt.figure(figsize=(8, 6))\n",
    "sns.heatmap(cm, annot=True, fmt='d', cmap='Blues')\n",
    "plt.title('Decision Tree Confusion Matrix')\n",
    "plt.xlabel('Predicted')\n",
    "plt.ylabel('Actual')\n",
    "plt.savefig('decision_tree_cm.png')\n",
    "plt.close()\n",
    "\n",
    "# Plotting ROC curve for multiclass\n",
    "y_test_bin = label_binarize(y_test, classes=[0, 1, 2])\n",
    "y_score = model.predict_proba(X_test)\n",
    "fpr, tpr, roc_auc = {}, {}, {}\n",
    "for i in range(3):\n",
    "    fpr[i], tpr[i], _ = roc_curve(y_test_bin[:, i], y_score[:, i])\n",
    "    roc_auc[i] = auc(fpr[i], tpr[i])\n",
    "\n",
    "plt.figure(figsize=(8, 6))\n",
    "for i in range(3):\n",
    "    plt.plot(fpr[i], tpr[i], label=f'ROC curve (class {i}, AUC = {roc_auc[i]:.2f})')\n",
    "plt.plot([0, 1], [0, 1], 'k--')\n",
    "plt.xlabel('False Positive Rate')\n",
    "plt.ylabel('True Positive Rate')\n",
    "plt.title('Decision Tree ROC Curve')\n",
    "plt.legend(loc='lower right')\n",
    "plt.savefig('decision_tree_roc.png')\n",
    "plt.close()\n",
    "\n",
    "# Saving ROC AUC scores\n",
    "with open('decision_tree_roc_auc.txt', 'w') as f:\n",
    "    for i in range(3):\n",
    "        f.write(f\"Class {i} AUC: {roc_auc[i]:.4f}\\n\")\n",
    "\n",
    "print(\"Decision Tree training and evaluation completed.\")"
   ]
  },
  {
   "cell_type": "code",
   "execution_count": null,
   "id": "ba086605",
   "metadata": {},
   "outputs": [],
   "source": []
  }
 ],
 "metadata": {
  "kernelspec": {
   "display_name": "Python 3 (ipykernel)",
   "language": "python",
   "name": "python3"
  },
  "language_info": {
   "codemirror_mode": {
    "name": "ipython",
    "version": 3
   },
   "file_extension": ".py",
   "mimetype": "text/x-python",
   "name": "python",
   "nbconvert_exporter": "python",
   "pygments_lexer": "ipython3",
   "version": "3.11.5"
  }
 },
 "nbformat": 4,
 "nbformat_minor": 5
}
